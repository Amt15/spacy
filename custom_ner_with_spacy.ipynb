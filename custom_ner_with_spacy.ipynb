{
  "nbformat": 4,
  "nbformat_minor": 0,
  "metadata": {
    "colab": {
      "name": "custom_ner_with_spacy.ipynb",
      "provenance": [],
      "authorship_tag": "ABX9TyNgL4m9hYn+FBEHwdrkXtNF",
      "include_colab_link": true
    },
    "kernelspec": {
      "name": "python3",
      "display_name": "Python 3"
    },
    "language_info": {
      "name": "python"
    }
  },
  "cells": [
    {
      "cell_type": "markdown",
      "metadata": {
        "id": "view-in-github",
        "colab_type": "text"
      },
      "source": [
        "<a href=\"https://colab.research.google.com/github/Amt15/spacy/blob/main/custom_ner_with_spacy.ipynb\" target=\"_parent\"><img src=\"https://colab.research.google.com/assets/colab-badge.svg\" alt=\"Open In Colab\"/></a>"
      ]
    },
    {
      "cell_type": "code",
      "execution_count": 2,
      "metadata": {
        "id": "eJW5V7ujrHSz"
      },
      "outputs": [],
      "source": [
        "# https://tecoholic.github.io/ner-annotator/\n",
        "# by defauld google colab comes with something spacy 2.2 version not 3 , update spacy\n",
        "!pip install -U spacy -q"
      ]
    },
    {
      "cell_type": "code",
      "source": [
        "\n",
        "!python -m spacy info"
      ],
      "metadata": {
        "colab": {
          "base_uri": "https://localhost:8080/"
        },
        "id": "qnGs0wmTsXHH",
        "outputId": "cc5a63e1-3f72-439c-afb9-1d3165f96877"
      },
      "execution_count": 3,
      "outputs": [
        {
          "output_type": "stream",
          "name": "stdout",
          "text": [
            "\u001b[1m\n",
            "============================== Info about spaCy ==============================\u001b[0m\n",
            "\n",
            "spaCy version    3.3.0                         \n",
            "Location         /usr/local/lib/python3.7/dist-packages/spacy\n",
            "Platform         Linux-5.4.188+-x86_64-with-Ubuntu-18.04-bionic\n",
            "Python version   3.7.13                        \n",
            "Pipelines                                      \n",
            "\n"
          ]
        }
      ]
    },
    {
      "cell_type": "code",
      "source": [
        "import spacy\n",
        "from spacy.tokens import DocBin\n",
        "from tqdm import tqdm\n",
        "\n",
        "nlp = spacy.blank(\"en\")   # load a new spacy model\n",
        "db = DocBin()   # create DocBin object"
      ],
      "metadata": {
        "id": "HiM3z7Rzwxhj"
      },
      "execution_count": 4,
      "outputs": []
    },
    {
      "cell_type": "code",
      "source": [
        "import json \n",
        "\n",
        "f = open('training_data.json')\n",
        "TRAIN_DATA = json.load(f)"
      ],
      "metadata": {
        "id": "TjeV6g7fxWAn"
      },
      "execution_count": 6,
      "outputs": []
    },
    {
      "cell_type": "code",
      "source": [
        "TRAIN_DATA"
      ],
      "metadata": {
        "colab": {
          "base_uri": "https://localhost:8080/"
        },
        "id": "q5WbbJvhxbt6",
        "outputId": "bc4caa65-6686-4c70-d287-bfe03bf77947"
      },
      "execution_count": 7,
      "outputs": [
        {
          "output_type": "execute_result",
          "data": {
            "text/plain": [
              "{'annotations': [[\"Cryptocurrency price today: Major cryptocurrencies have registered decent gains in last 24 hours, especially after the US Fed meeting last night. Among top 10 crypto assets Bitcoin, Ethereum, Terra, Dogecoin, Solana, Shiba Inu, etc. have logged up to 7 per cent rise in last 24 hours. Crypto assets had tumbled on Wednesday after the surprise RBI's repo rate and CRR hike.\\r\",\n",
              "   {'entities': [[88, 96, 'TIME'],\n",
              "     [173, 180, 'CRYTO'],\n",
              "     [182, 190, 'CRYTO'],\n",
              "     [192, 197, 'CRYTO'],\n",
              "     [199, 207, 'CRYTO'],\n",
              "     [209, 215, 'CRYTO'],\n",
              "     [217, 222, 'CRYTO'],\n",
              "     [223, 226, 'CRYTO'],\n",
              "     [251, 261, 'PERCENTAGE'],\n",
              "     [275, 284, 'TIME']]}],\n",
              "  ['Among major cryptocurrency in India, Bitcoin price today is ₹31,66,065, adding ₹1,00,787 or 3.29 per cent in last 24 hours. Current market capital of Bitcoin is ₹56.3 trillion whereas current market volume of Bitcoin is ₹2.5 trillion.\\r',\n",
              "   {'entities': [[37, 44, 'CRYTO'],\n",
              "     [60, 70, 'VALUE'],\n",
              "     [79, 88, 'VALUE'],\n",
              "     [92, 105, 'PERCENTAGE'],\n",
              "     [114, 123, 'TIME'],\n",
              "     [150, 157, 'CRYTO'],\n",
              "     [161, 175, 'VALUE'],\n",
              "     [209, 216, 'CRYTO'],\n",
              "     [220, 233, 'VALUE']]}],\n",
              "  ['Cryptocurrency price today: Bitcoin, ETH, Solana, Dogecoin, S...\\r',\n",
              "   {'entities': [[28, 35, 'CRYTO'],\n",
              "     [37, 40, 'CRYTO'],\n",
              "     [42, 48, 'CRYTO'],\n",
              "     [50, 58, 'CRYTO']]}],\n",
              "  ['Cryptocurrency price today: Bitcoin, ETH, Solana, Dogecoin, S...\\r',\n",
              "   {'entities': [[28, 35, 'CRYTO'],\n",
              "     [37, 40, 'CRYTO'],\n",
              "     [42, 48, 'CRYTO'],\n",
              "     [50, 58, 'CRYTO']]}],\n",
              "  ['Cryptocurrency prices today surge; Bitcoin above $38,000, Shi...\\r',\n",
              "   {'entities': [[35, 42, 'CRYTO'], [49, 56, 'VALUE']]}],\n",
              "  ['Cryptocurrency prices today surge; Bitcoin above $38,000, Shi...\\r',\n",
              "   {'entities': [[35, 42, 'CRYTO'], [49, 56, 'VALUE']]}],\n",
              "  ['Cryptocurrency prices today: Bitcoin, dogecoin, Shiba Inu sli...\\r',\n",
              "   {'entities': [[29, 36, 'CRYTO'],\n",
              "     [38, 46, 'CRYTO'],\n",
              "     [48, 53, 'CRYTO'],\n",
              "     [54, 57, 'CRYTO']]}],\n",
              "  ['Cryptocurrency prices today: Bitcoin, dogecoin, Shiba Inu sli...\\r',\n",
              "   {'entities': [[29, 36, 'CRYTO'],\n",
              "     [38, 46, 'CRYTO'],\n",
              "     [48, 53, 'CRYTO'],\n",
              "     [54, 57, 'CRYTO'],\n",
              "     [58, 61, 'CRYTO']]}],\n",
              "  ['Cryptocurrency prices today: Bitcoin, ether, Litecoin gain wh...\\r',\n",
              "   {'entities': [[29, 36, 'CRYTO'], [38, 43, 'CRYTO'], [45, 53, 'CRYTO']]}],\n",
              "  ['Cryptocurrency prices today: Bitcoin, ether, Litecoin gain wh...\\r',\n",
              "   {'entities': [[29, 36, 'CRYTO'], [38, 43, 'CRYTO'], [45, 53, 'CRYTO']]}],\n",
              "  ['Another crypto major Ethereum price today is quoting ₹2,35,297 per coin, ₹9,536 or 4.22 per cent higher from the price it was quoting 24 hours ago. Currently, market capital of Ether is ₹26.2 trillion and its current trade volume stands at 1.1 trillion.\\r',\n",
              "   {'entities': [[21, 29, 'CRYTO'],\n",
              "     [53, 62, 'VALUE'],\n",
              "     [73, 79, 'VALUE'],\n",
              "     [83, 96, 'PERCENTAGE'],\n",
              "     [134, 147, 'TIME'],\n",
              "     [186, 200, 'VALUE'],\n",
              "     [240, 252, 'VALUE']]}],\n",
              "  ['Solana is selling at ₹7,480.73, around ₹504 or 7.23 per cent higher from its selling price it quoted 24 hours ago. Its current market valuation is ₹2.2 trillion and its current trade volume is ₹83.4 billion.\\r',\n",
              "   {'entities': [[0, 6, 'CRYTO'],\n",
              "     [21, 30, 'VALUE'],\n",
              "     [39, 43, 'VALUE'],\n",
              "     [47, 60, 'PERCENTAGE'],\n",
              "     [101, 114, 'TIME'],\n",
              "     [147, 160, 'VALUE'],\n",
              "     [193, 206, 'VALUE']]}],\n",
              "  ['Cryptocurrency major Shiba Inu is selling at ₹0.001731, adding ₹0.000055 or 3.28 per cent to its price it was quoting 24 hours ago.\\r',\n",
              "   {'entities': [[21, 30, 'CRYTO'],\n",
              "     [45, 54, 'VALUE'],\n",
              "     [63, 72, 'VALUE'],\n",
              "     [76, 89, 'PERCENTAGE'],\n",
              "     [118, 130, 'TIME']]}],\n",
              "  ['Dogecoin price today is ₹10.95, which is ₹0.41 or 3.89 per cent higher from its price 24 hours ago. Currently, its market capital is ₹1.3 trillion and trade volume is ₹52.2 billion.\\r',\n",
              "   {'entities': [[0, 8, 'CRYTO'],\n",
              "     [24, 30, 'VALUE'],\n",
              "     [41, 46, 'VALUE'],\n",
              "     [50, 63, 'PERCENTAGE'],\n",
              "     [86, 99, 'TIME'],\n",
              "     [133, 146, 'VALUE'],\n",
              "     [167, 180, 'VALUE']]}],\n",
              "  ['Likewise, Terra price today is ₹7,005.42, around ₹321.70 or 4.81 per cent higher from its selling price 24 hours ago. Currently, market valuation of Terra is ₹2.2 trillion and its trade volume is ₹111.8 billion.\\r',\n",
              "   {'entities': [[10, 15, 'CRYTO'],\n",
              "     [31, 40, 'VALUE'],\n",
              "     [49, 56, 'VALUE'],\n",
              "     [60, 73, 'PERCENTAGE'],\n",
              "     [104, 117, 'TIME'],\n",
              "     [149, 154, 'CRYTO'],\n",
              "     [158, 171, 'VALUE'],\n",
              "     [196, 210, 'VALUE']]}]],\n",
              " 'classes': ['CRYTO', 'VALUE', 'PERCENTAGE', 'TIME']}"
            ]
          },
          "metadata": {},
          "execution_count": 7
        }
      ]
    },
    {
      "cell_type": "code",
      "source": [
        "for text, annot in tqdm(TRAIN_DATA['annotations']):\n",
        "  doc = nlp.make_doc(text)\n",
        "  ents=[]\n",
        "  for start, end, label in annot['entities']:\n",
        "    span = doc.char_span(start, end, label=label, alignment_mode='contract')\n",
        "    if span is None:\n",
        "      print(\"Skipping entity\")\n",
        "    else:\n",
        "      ents.append(span)\n",
        "  doc.ents = ents\n",
        "  db.add(doc)\n",
        "\n",
        "db.to_disk(\"./training_data.spacy\")  # save the DocBin object\n"
      ],
      "metadata": {
        "colab": {
          "base_uri": "https://localhost:8080/"
        },
        "id": "2MzM4nbrtWFM",
        "outputId": "e0272773-faea-4716-cecd-6d2e64dc1408"
      },
      "execution_count": 8,
      "outputs": [
        {
          "output_type": "stream",
          "name": "stderr",
          "text": [
            "100%|██████████| 15/15 [00:00<00:00, 1444.65it/s]\n"
          ]
        }
      ]
    },
    {
      "cell_type": "code",
      "source": [
        "! python -m spacy init config config.cfg --lang en --pipeline ner --optimize efficiency"
      ],
      "metadata": {
        "colab": {
          "base_uri": "https://localhost:8080/"
        },
        "id": "Kc2-cduXxxcZ",
        "outputId": "5e3bcf76-8f99-4feb-bfaa-66df788945ae"
      },
      "execution_count": 9,
      "outputs": [
        {
          "output_type": "stream",
          "name": "stdout",
          "text": [
            "\u001b[38;5;3m⚠ To generate a more effective transformer-based config (GPU-only),\n",
            "install the spacy-transformers package and re-run this command. The config\n",
            "generated now does not use transformers.\u001b[0m\n",
            "\u001b[38;5;4mℹ Generated config template specific for your use case\u001b[0m\n",
            "- Language: en\n",
            "- Pipeline: ner\n",
            "- Optimize for: efficiency\n",
            "- Hardware: CPU\n",
            "- Transformer: None\n",
            "\u001b[38;5;2m✔ Auto-filled config with all values\u001b[0m\n",
            "\u001b[38;5;2m✔ Saved config\u001b[0m\n",
            "config.cfg\n",
            "You can now add your data and train your pipeline:\n",
            "python -m spacy train config.cfg --paths.train ./train.spacy --paths.dev ./dev.spacy\n"
          ]
        }
      ]
    },
    {
      "cell_type": "code",
      "source": [
        "! python -m spacy train config.cfg --output ./ --paths.train ./training_data.spacy --paths.dev ./training_data.spacy"
      ],
      "metadata": {
        "colab": {
          "base_uri": "https://localhost:8080/"
        },
        "id": "NqxcJYqQyqwf",
        "outputId": "8c989654-2951-4160-f039-0e9f984c07d5"
      },
      "execution_count": 10,
      "outputs": [
        {
          "output_type": "stream",
          "name": "stdout",
          "text": [
            "\u001b[38;5;4mℹ Saving to output directory: .\u001b[0m\n",
            "\u001b[38;5;4mℹ Using CPU\u001b[0m\n",
            "\u001b[1m\n",
            "=========================== Initializing pipeline ===========================\u001b[0m\n",
            "[2022-05-05 13:19:27,582] [INFO] Set up nlp object from config\n",
            "[2022-05-05 13:19:27,594] [INFO] Pipeline: ['tok2vec', 'ner']\n",
            "[2022-05-05 13:19:27,598] [INFO] Created vocabulary\n",
            "[2022-05-05 13:19:27,600] [INFO] Finished initializing nlp object\n",
            "[2022-05-05 13:19:27,749] [INFO] Initialized pipeline components: ['tok2vec', 'ner']\n",
            "\u001b[38;5;2m✔ Initialized pipeline\u001b[0m\n",
            "\u001b[1m\n",
            "============================= Training pipeline =============================\u001b[0m\n",
            "\u001b[38;5;4mℹ Pipeline: ['tok2vec', 'ner']\u001b[0m\n",
            "\u001b[38;5;4mℹ Initial learn rate: 0.001\u001b[0m\n",
            "E    #       LOSS TOK2VEC  LOSS NER  ENTS_F  ENTS_P  ENTS_R  SCORE \n",
            "---  ------  ------------  --------  ------  ------  ------  ------\n",
            "  0       0          0.00     53.11    0.00    0.00    0.00    0.00\n",
            " 39     200        183.28   1651.43   99.38   98.77  100.00    0.99\n",
            " 89     400         24.57     77.92   99.37  100.00   98.75    0.99\n",
            "155     600         25.15    103.40   99.38   98.77  100.00    0.99\n",
            "232     800         19.89    100.92   99.37  100.00   98.75    0.99\n",
            "332    1000         23.67    129.85   99.38   98.77  100.00    0.99\n",
            "432    1200         11.86    128.22   99.38   98.77  100.00    0.99\n",
            "584    1400         14.91    173.81   99.38   98.77  100.00    0.99\n",
            "784    1600         20.01    225.57   99.38   98.77  100.00    0.99\n",
            "984    1800         25.33    216.70   99.37  100.00   98.75    0.99\n",
            "\u001b[38;5;2m✔ Saved pipeline to output directory\u001b[0m\n",
            "model-last\n"
          ]
        }
      ]
    },
    {
      "cell_type": "code",
      "source": [
        "nlp_ner = spacy.load(\"/content/model-best\")"
      ],
      "metadata": {
        "id": "kAGyNZGGzgZe"
      },
      "execution_count": 11,
      "outputs": []
    },
    {
      "cell_type": "code",
      "source": [
        "text = '''Another crypto major Ethereum price today is quoting ₹2,35,297 per coin, ₹9,536 or 4.22 per cent higher from the price it was quoting 24 hours ago. Currently, market capital of Ether is ₹26.2 trillion and its current trade volume stands at 1.1 trillion.\n",
        "\n",
        "Solana is selling at ₹7,480.73, around ₹504 or 7.23 per cent higher from its selling price it quoted 24 hours ago. Its current market valuation is ₹2.2 trillion and its current trade volume is ₹83.4 billion.\n",
        "\n",
        "Cryptocurrency major Shiba Inu is selling at ₹0.001731, adding ₹0.000055 or 3.28 per cent to its price it was quoting 24 hours ago.\n",
        "\n",
        "Dogecoin price today is ₹10.95, which is ₹0.41 or 3.89 per cent higher from its price 24 hours ago. Currently, its market capital is ₹1.3 trillion and trade volume is ₹52.2 billion.\n",
        "'''"
      ],
      "metadata": {
        "id": "tcCiCnV37muo"
      },
      "execution_count": 12,
      "outputs": []
    },
    {
      "cell_type": "code",
      "source": [
        "doc = nlp_ner(text)"
      ],
      "metadata": {
        "id": "RcpwZZb8730_"
      },
      "execution_count": 13,
      "outputs": []
    },
    {
      "cell_type": "code",
      "source": [
        "spacy.displacy.render(doc,style=\"ent\",jupyter=True)"
      ],
      "metadata": {
        "colab": {
          "base_uri": "https://localhost:8080/",
          "height": 402
        },
        "id": "u4RHXYGD7-OV",
        "outputId": "c667af3a-e216-4bab-c4f0-51a03350cd78"
      },
      "execution_count": 14,
      "outputs": [
        {
          "output_type": "display_data",
          "data": {
            "text/plain": [
              "<IPython.core.display.HTML object>"
            ],
            "text/html": [
              "<span class=\"tex2jax_ignore\"><div class=\"entities\" style=\"line-height: 2.5; direction: ltr\">Another crypto major \n",
              "<mark class=\"entity\" style=\"background: #ddd; padding: 0.45em 0.6em; margin: 0 0.25em; line-height: 1; border-radius: 0.35em;\">\n",
              "    Ethereum\n",
              "    <span style=\"font-size: 0.8em; font-weight: bold; line-height: 1; border-radius: 0.35em; vertical-align: middle; margin-left: 0.5rem\">CRYTO</span>\n",
              "</mark>\n",
              " price today is quoting \n",
              "<mark class=\"entity\" style=\"background: #ddd; padding: 0.45em 0.6em; margin: 0 0.25em; line-height: 1; border-radius: 0.35em;\">\n",
              "    ₹2,35,297\n",
              "    <span style=\"font-size: 0.8em; font-weight: bold; line-height: 1; border-radius: 0.35em; vertical-align: middle; margin-left: 0.5rem\">VALUE</span>\n",
              "</mark>\n",
              " per coin, \n",
              "<mark class=\"entity\" style=\"background: #ddd; padding: 0.45em 0.6em; margin: 0 0.25em; line-height: 1; border-radius: 0.35em;\">\n",
              "    ₹9,536\n",
              "    <span style=\"font-size: 0.8em; font-weight: bold; line-height: 1; border-radius: 0.35em; vertical-align: middle; margin-left: 0.5rem\">VALUE</span>\n",
              "</mark>\n",
              " or \n",
              "<mark class=\"entity\" style=\"background: #ddd; padding: 0.45em 0.6em; margin: 0 0.25em; line-height: 1; border-radius: 0.35em;\">\n",
              "    4.22 per cent\n",
              "    <span style=\"font-size: 0.8em; font-weight: bold; line-height: 1; border-radius: 0.35em; vertical-align: middle; margin-left: 0.5rem\">PERCENTAGE</span>\n",
              "</mark>\n",
              " higher from the price it was quoting \n",
              "<mark class=\"entity\" style=\"background: #bfe1d9; padding: 0.45em 0.6em; margin: 0 0.25em; line-height: 1; border-radius: 0.35em;\">\n",
              "    24 hours ago.\n",
              "    <span style=\"font-size: 0.8em; font-weight: bold; line-height: 1; border-radius: 0.35em; vertical-align: middle; margin-left: 0.5rem\">TIME</span>\n",
              "</mark>\n",
              " Currently, market capital of Ether is \n",
              "<mark class=\"entity\" style=\"background: #ddd; padding: 0.45em 0.6em; margin: 0 0.25em; line-height: 1; border-radius: 0.35em;\">\n",
              "    ₹26.2 trillion\n",
              "    <span style=\"font-size: 0.8em; font-weight: bold; line-height: 1; border-radius: 0.35em; vertical-align: middle; margin-left: 0.5rem\">VALUE</span>\n",
              "</mark>\n",
              " and its current trade volume stands at \n",
              "<mark class=\"entity\" style=\"background: #ddd; padding: 0.45em 0.6em; margin: 0 0.25em; line-height: 1; border-radius: 0.35em;\">\n",
              "    1.1 trillion\n",
              "    <span style=\"font-size: 0.8em; font-weight: bold; line-height: 1; border-radius: 0.35em; vertical-align: middle; margin-left: 0.5rem\">VALUE</span>\n",
              "</mark>\n",
              ".</br></br>\n",
              "<mark class=\"entity\" style=\"background: #ddd; padding: 0.45em 0.6em; margin: 0 0.25em; line-height: 1; border-radius: 0.35em;\">\n",
              "    Solana\n",
              "    <span style=\"font-size: 0.8em; font-weight: bold; line-height: 1; border-radius: 0.35em; vertical-align: middle; margin-left: 0.5rem\">CRYTO</span>\n",
              "</mark>\n",
              " is selling at \n",
              "<mark class=\"entity\" style=\"background: #ddd; padding: 0.45em 0.6em; margin: 0 0.25em; line-height: 1; border-radius: 0.35em;\">\n",
              "    ₹7,480.73\n",
              "    <span style=\"font-size: 0.8em; font-weight: bold; line-height: 1; border-radius: 0.35em; vertical-align: middle; margin-left: 0.5rem\">VALUE</span>\n",
              "</mark>\n",
              ", around \n",
              "<mark class=\"entity\" style=\"background: #ddd; padding: 0.45em 0.6em; margin: 0 0.25em; line-height: 1; border-radius: 0.35em;\">\n",
              "    ₹504\n",
              "    <span style=\"font-size: 0.8em; font-weight: bold; line-height: 1; border-radius: 0.35em; vertical-align: middle; margin-left: 0.5rem\">VALUE</span>\n",
              "</mark>\n",
              " or \n",
              "<mark class=\"entity\" style=\"background: #ddd; padding: 0.45em 0.6em; margin: 0 0.25em; line-height: 1; border-radius: 0.35em;\">\n",
              "    7.23 per cent\n",
              "    <span style=\"font-size: 0.8em; font-weight: bold; line-height: 1; border-radius: 0.35em; vertical-align: middle; margin-left: 0.5rem\">PERCENTAGE</span>\n",
              "</mark>\n",
              " higher from its selling price it quoted \n",
              "<mark class=\"entity\" style=\"background: #bfe1d9; padding: 0.45em 0.6em; margin: 0 0.25em; line-height: 1; border-radius: 0.35em;\">\n",
              "    24 hours ago.\n",
              "    <span style=\"font-size: 0.8em; font-weight: bold; line-height: 1; border-radius: 0.35em; vertical-align: middle; margin-left: 0.5rem\">TIME</span>\n",
              "</mark>\n",
              " Its current market valuation is \n",
              "<mark class=\"entity\" style=\"background: #ddd; padding: 0.45em 0.6em; margin: 0 0.25em; line-height: 1; border-radius: 0.35em;\">\n",
              "    ₹2.2 trillion\n",
              "    <span style=\"font-size: 0.8em; font-weight: bold; line-height: 1; border-radius: 0.35em; vertical-align: middle; margin-left: 0.5rem\">VALUE</span>\n",
              "</mark>\n",
              " and its current trade volume is \n",
              "<mark class=\"entity\" style=\"background: #ddd; padding: 0.45em 0.6em; margin: 0 0.25em; line-height: 1; border-radius: 0.35em;\">\n",
              "    ₹83.4 billion\n",
              "    <span style=\"font-size: 0.8em; font-weight: bold; line-height: 1; border-radius: 0.35em; vertical-align: middle; margin-left: 0.5rem\">VALUE</span>\n",
              "</mark>\n",
              ".</br></br>Cryptocurrency major \n",
              "<mark class=\"entity\" style=\"background: #ddd; padding: 0.45em 0.6em; margin: 0 0.25em; line-height: 1; border-radius: 0.35em;\">\n",
              "    Shiba Inu\n",
              "    <span style=\"font-size: 0.8em; font-weight: bold; line-height: 1; border-radius: 0.35em; vertical-align: middle; margin-left: 0.5rem\">CRYTO</span>\n",
              "</mark>\n",
              " is selling at \n",
              "<mark class=\"entity\" style=\"background: #ddd; padding: 0.45em 0.6em; margin: 0 0.25em; line-height: 1; border-radius: 0.35em;\">\n",
              "    ₹0.001731\n",
              "    <span style=\"font-size: 0.8em; font-weight: bold; line-height: 1; border-radius: 0.35em; vertical-align: middle; margin-left: 0.5rem\">VALUE</span>\n",
              "</mark>\n",
              ", adding \n",
              "<mark class=\"entity\" style=\"background: #ddd; padding: 0.45em 0.6em; margin: 0 0.25em; line-height: 1; border-radius: 0.35em;\">\n",
              "    ₹0.000055\n",
              "    <span style=\"font-size: 0.8em; font-weight: bold; line-height: 1; border-radius: 0.35em; vertical-align: middle; margin-left: 0.5rem\">VALUE</span>\n",
              "</mark>\n",
              " or \n",
              "<mark class=\"entity\" style=\"background: #ddd; padding: 0.45em 0.6em; margin: 0 0.25em; line-height: 1; border-radius: 0.35em;\">\n",
              "    3.28 per cent\n",
              "    <span style=\"font-size: 0.8em; font-weight: bold; line-height: 1; border-radius: 0.35em; vertical-align: middle; margin-left: 0.5rem\">PERCENTAGE</span>\n",
              "</mark>\n",
              " to its price it was quoting \n",
              "<mark class=\"entity\" style=\"background: #bfe1d9; padding: 0.45em 0.6em; margin: 0 0.25em; line-height: 1; border-radius: 0.35em;\">\n",
              "    24 hours ago\n",
              "    <span style=\"font-size: 0.8em; font-weight: bold; line-height: 1; border-radius: 0.35em; vertical-align: middle; margin-left: 0.5rem\">TIME</span>\n",
              "</mark>\n",
              ".</br></br>\n",
              "<mark class=\"entity\" style=\"background: #ddd; padding: 0.45em 0.6em; margin: 0 0.25em; line-height: 1; border-radius: 0.35em;\">\n",
              "    Dogecoin\n",
              "    <span style=\"font-size: 0.8em; font-weight: bold; line-height: 1; border-radius: 0.35em; vertical-align: middle; margin-left: 0.5rem\">CRYTO</span>\n",
              "</mark>\n",
              " price today is \n",
              "<mark class=\"entity\" style=\"background: #ddd; padding: 0.45em 0.6em; margin: 0 0.25em; line-height: 1; border-radius: 0.35em;\">\n",
              "    ₹10.95\n",
              "    <span style=\"font-size: 0.8em; font-weight: bold; line-height: 1; border-radius: 0.35em; vertical-align: middle; margin-left: 0.5rem\">VALUE</span>\n",
              "</mark>\n",
              ", which is \n",
              "<mark class=\"entity\" style=\"background: #ddd; padding: 0.45em 0.6em; margin: 0 0.25em; line-height: 1; border-radius: 0.35em;\">\n",
              "    ₹0.41\n",
              "    <span style=\"font-size: 0.8em; font-weight: bold; line-height: 1; border-radius: 0.35em; vertical-align: middle; margin-left: 0.5rem\">VALUE</span>\n",
              "</mark>\n",
              " or \n",
              "<mark class=\"entity\" style=\"background: #ddd; padding: 0.45em 0.6em; margin: 0 0.25em; line-height: 1; border-radius: 0.35em;\">\n",
              "    3.89 per cent\n",
              "    <span style=\"font-size: 0.8em; font-weight: bold; line-height: 1; border-radius: 0.35em; vertical-align: middle; margin-left: 0.5rem\">PERCENTAGE</span>\n",
              "</mark>\n",
              " higher from its price \n",
              "<mark class=\"entity\" style=\"background: #bfe1d9; padding: 0.45em 0.6em; margin: 0 0.25em; line-height: 1; border-radius: 0.35em;\">\n",
              "    24 hours ago.\n",
              "    <span style=\"font-size: 0.8em; font-weight: bold; line-height: 1; border-radius: 0.35em; vertical-align: middle; margin-left: 0.5rem\">TIME</span>\n",
              "</mark>\n",
              " Currently, its market capital is \n",
              "<mark class=\"entity\" style=\"background: #ddd; padding: 0.45em 0.6em; margin: 0 0.25em; line-height: 1; border-radius: 0.35em;\">\n",
              "    ₹1.3 trillion\n",
              "    <span style=\"font-size: 0.8em; font-weight: bold; line-height: 1; border-radius: 0.35em; vertical-align: middle; margin-left: 0.5rem\">VALUE</span>\n",
              "</mark>\n",
              " and trade volume is \n",
              "<mark class=\"entity\" style=\"background: #ddd; padding: 0.45em 0.6em; margin: 0 0.25em; line-height: 1; border-radius: 0.35em;\">\n",
              "    ₹52.2 billion\n",
              "    <span style=\"font-size: 0.8em; font-weight: bold; line-height: 1; border-radius: 0.35em; vertical-align: middle; margin-left: 0.5rem\">VALUE</span>\n",
              "</mark>\n",
              ".</br></div></span>"
            ]
          },
          "metadata": {}
        }
      ]
    },
    {
      "cell_type": "code",
      "source": [
        "for ent in doc.ents:\n",
        "  if ent.label_== 'PERCENTAGE':\n",
        "    print(ent.text,ent.label_)\n",
        "  elif ent.label_ == 'CRYTO':\n",
        "    print(ent.text,ent.label_)"
      ],
      "metadata": {
        "colab": {
          "base_uri": "https://localhost:8080/"
        },
        "id": "nCNwDXZT8JqM",
        "outputId": "e9100002-a9eb-4f7d-dfd6-fb5c45c1fa4f"
      },
      "execution_count": 15,
      "outputs": [
        {
          "output_type": "stream",
          "name": "stdout",
          "text": [
            "Ethereum CRYTO\n",
            "4.22 per cent PERCENTAGE\n",
            "Solana CRYTO\n",
            "7.23 per cent PERCENTAGE\n",
            "Shiba Inu CRYTO\n",
            "3.28 per cent PERCENTAGE\n",
            "Dogecoin CRYTO\n",
            "3.89 per cent PERCENTAGE\n"
          ]
        }
      ]
    },
    {
      "cell_type": "code",
      "source": [
        ""
      ],
      "metadata": {
        "id": "Emw2_tdv_iXs"
      },
      "execution_count": null,
      "outputs": []
    }
  ]
}